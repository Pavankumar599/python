{
 "cells": [
  {
   "cell_type": "markdown",
   "metadata": {},
   "source": [
    "# varibles and Data types"
   ]
  },
  {
   "cell_type": "markdown",
   "metadata": {},
   "source": [
    "# Exercise 1.1: Memory Exploration"
   ]
  },
  {
   "cell_type": "markdown",
   "metadata": {},
   "source": [
    "1. Create variables of different types (int, float, string, list, tuple) \n",
    "2. Print the ID (memory address) of each variable using the id() function"
   ]
  },
  {
   "cell_type": "code",
   "execution_count": 3,
   "metadata": {},
   "outputs": [
    {
     "name": "stdout",
     "output_type": "stream",
     "text": [
      "int\n",
      "type of variables ammount and dozens  <class 'int'> <class 'int'>\n",
      "memory address of ammount is  4304131536\n",
      "memory address of dozens is  4303939920\n",
      "\n",
      "\n",
      "float\n",
      "type of variables weight and height  <class 'float'> <class 'float'>\n",
      "memory address of weight is  4345907888\n",
      "memory address of height is  4343973872\n",
      "\n",
      "\n",
      "string\n",
      "type of variables name and location  <class 'str'> <class 'str'>\n",
      "memory address of name is  4330964464\n",
      "memory address of location is 4346193520\n",
      "\n",
      "\n",
      "list\n",
      "type of l is  <class 'list'>\n",
      "meomry address of list l is  4345960896\n",
      "\n",
      "\n",
      "tuple\n",
      "type of t is  <class 'tuple'>\n",
      "memory address of tuple t is  4345958656\n"
     ]
    }
   ],
   "source": [
    "\n",
    "\n",
    "# int\n",
    "print('int')\n",
    "ammount = 100\n",
    "dozens = 2\n",
    "print(\"type of variables ammount and dozens \",type(ammount),type(dozens))\n",
    "print('memory address of ammount is ', id(ammount))\n",
    "print('memory address of dozens is ', id(dozens))\n",
    "print('\\n')\n",
    "\n",
    "# float\n",
    "print('float')\n",
    "weight = 56.70\n",
    "height = 154.6\n",
    "print(\"type of variables weight and height \",type(weight),type(height))\n",
    "print('memory address of weight is ', id(weight))\n",
    "print('memory address of height is ', id(height))\n",
    "print('\\n')\n",
    "\n",
    "# string\n",
    "print('string')\n",
    "name = 'pavan'\n",
    "location = 'Hyderabad'\n",
    "print(\"type of variables name and location \",type(name),type(location))\n",
    "print('memory address of name is ', id(name))\n",
    "print('memory address of location is', id(location))\n",
    "print('\\n')\n",
    "\n",
    "\n",
    "# list : These are Homogenous\n",
    "print('list')\n",
    "l = [1, 2, 'pavan', 18]\n",
    "print(\"type of l is \",type(l))\n",
    "print('meomry address of list l is ', id(l))\n",
    "print('\\n')\n",
    "\n",
    "# tuple\n",
    "print('tuple')\n",
    "t = (1, 4, 'hello')\n",
    "print(\"type of t is \", type(t))\n",
    "print('memory address of tuple t is ', id(t))\n",
    "\n"
   ]
  },
  {
   "cell_type": "markdown",
   "metadata": {},
   "source": [
    "3. Create a second variable that references the same object as one of your first variables.\n",
    "4. Modify the original variable and observe what happens to the second one (for both\n",
    "mutable and immutable types)."
   ]
  },
  {
   "cell_type": "code",
   "execution_count": 7,
   "metadata": {},
   "outputs": [
    {
     "name": "stdout",
     "output_type": "stream",
     "text": [
      "first_variable is 10 and address is 4303940176 \n",
      "second_variable is 10 and address is 4303940176 \n",
      "\n",
      "After modyfying first_variable:\n",
      "first_variable is 20 and address is 4303940496 \n",
      "second_variable is 10 and address is 4303940176 \n",
      "\n"
     ]
    }
   ],
   "source": [
    "first_variable = 10\n",
    "second_variable = first_variable\n",
    "\n",
    "print(f'first_variable is {first_variable} and address is {id(first_variable)} ')\n",
    "print(f'second_variable is {second_variable} and address is {id(second_variable)} \\n')\n",
    "\n",
    "print(\"After modyfying first_variable:\")\n",
    "first_variable = 20\n",
    "print(f'first_variable is {first_variable} and address is {id(first_variable)} ')\n",
    "print(f'second_variable is {second_variable} and address is {id(second_variable)} \\n')"
   ]
  },
  {
   "cell_type": "markdown",
   "metadata": {},
   "source": [
    "5. Include comments explaining the behavior you observe.\n",
    "\n",
    "comments are not executable code"
   ]
  },
  {
   "cell_type": "markdown",
   "metadata": {},
   "source": [
    "# Exercise 1.2: Variable Scope Investigation"
   ]
  },
  {
   "cell_type": "markdown",
   "metadata": {},
   "source": [
    "Create a function that demonstrates variable scope in Python:\n",
    "1. Define global variables outside the function.\n",
    "2. Define local variables inside the function with the same names.\n",
    "3. Try to modify a global variable both with and without the global keyword.\n",
    "4. Print the IDs of all variables before and after modifications.\n",
    "5. Explain what happens and why in your comments."
   ]
  },
  {
   "cell_type": "code",
   "execution_count": 14,
   "metadata": {},
   "outputs": [
    {
     "name": "stdout",
     "output_type": "stream",
     "text": [
      "Before modifying the global variables values of a : 5 and  b : 4\n",
      "inside function values of a : 3 and b : 15\n",
      "After execution of function inside summ is  18\n",
      "Now global variables are sending into a function  18\n",
      "inside function values of a : 3 and b : 15\n",
      "After execution of function inside summ is  18\n",
      "After function Execution values of global variables are a : 5 and b : 4 and their sum is 18\n",
      "global sum of 5and 4 is  9\n"
     ]
    }
   ],
   "source": [
    "\n",
    "def summ(a : int, b : int) -> int:\n",
    "\n",
    "    # declaring local variables inside the function\n",
    "    a = 3\n",
    "    b = 15\n",
    "    print(f'inside function values of a : {a} and b : {b}')\n",
    "    s = a + b\n",
    "    print(f'After execution of function inside summ is ',s)\n",
    "    return s\n",
    "\n",
    "\n",
    "# declaring global variables outside the function\n",
    "a = 5\n",
    "b = 4\n",
    "print(f'Before modifying the global variables values of a : {a} and  b : {b}')\n",
    "print(f'Now global variables are sending into a function ', summ(a, b))\n",
    "print(f'After function Execution values of global variables are a : {a} and b : {b} and their sum is {summ(a,b)}')\n",
    "print(f'global sum of {a}and {b} is ', a+ b)\n",
    "\n",
    "# global variables are not change inside of a function\n",
    "\n",
    "\n"
   ]
  },
  {
   "cell_type": "markdown",
   "metadata": {},
   "source": [
    "# Part 2: Data Types and Type Conversion\n",
    "\n",
    "\n",
    "# Exercise 2.1: Type Exploration\n",
    "\n",
    "Create a program that:\n",
    "1. Creates at least one variable of each of these types: int, float, complex, bool, str, and\n",
    "None.\n",
    "2. Uses the type() function to verify the type of each variable.\n",
    "3. Uses isinstance() to check if variables are of specific types.\n",
    "4. Demonstrates at least three examples where Python automatically converts types in\n",
    "expressions.\n",
    "5. Includes comments documenting your observations about type behavior.\n",
    "Exercise 2.2: Type Conversion Challenge\n",
    "Write a function that:\n",
    "1. Takes a string input containing a mixture of numbers and text (e.g., \"I am 25 years old\n",
    "and my height is 5.9 feet\")\n",
    "2. Extracts all numbers from the string and converts them to their appropriate numeric types\n",
    "(int or float).\n",
    "3. Returns a tuple containing two lists: one with all integers found and one with all floats\n",
    "found.\n",
    "4. Handles potential conversion errors gracefully"
   ]
  },
  {
   "cell_type": "code",
   "execution_count": 25,
   "metadata": {},
   "outputs": [
    {
     "name": "stdout",
     "output_type": "stream",
     "text": [
      "[18, 'pavan', 5.9, (3+4j), True, None]\n",
      "type of variable 18 <class 'int'>\n",
      "type of variable pavan <class 'str'>\n",
      "type of variable 5.9 <class 'float'>\n",
      "type of variable (3+4j) <class 'complex'>\n",
      "type of variable True <class 'bool'>\n",
      "type of variable None <class 'NoneType'>\n"
     ]
    }
   ],
   "source": [
    "# 1\n",
    "list_of_different_variables = [18, 'pavan', 5.9, 3+4j, True, None]\n",
    "print(list_of_different_variables)\n",
    "\n",
    "for var in list_of_different_variables:\n",
    "    print(f'type of variable {var}',type(var))\n",
    "\n",
    "\n"
   ]
  },
  {
   "cell_type": "code",
   "execution_count": 18,
   "metadata": {},
   "outputs": [
    {
     "name": "stdout",
     "output_type": "stream",
     "text": [
      "18 is an integer\n",
      "pavan is a string\n",
      "5.9 is a float\n",
      "(3+4j) is a complex number\n",
      "True is an integer\n",
      "None is NoneType\n"
     ]
    }
   ],
   "source": [
    "# 2. Using the isinstance() function to check the type of each variable in the list\n",
    "\n",
    "for var in list_of_different_variables:\n",
    "    if isinstance(var, int):\n",
    "        print(f'{var} is an integer')\n",
    "    elif isinstance(var, float):\n",
    "        print(f'{var} is a float')\n",
    "    elif isinstance(var, str):\n",
    "        print(f'{var} is a string')\n",
    "    elif(isinstance(var, complex)):\n",
    "        print(f'{var} is a complex number')\n",
    "    elif isinstance(var, bool):\n",
    "        print(f'{var} is a boolean')\n",
    "    elif var is None:\n",
    "        print(f'{var} is NoneType')\n",
    "        "
   ]
  },
  {
   "cell_type": "code",
   "execution_count": 22,
   "metadata": {},
   "outputs": [
    {
     "name": "stdout",
     "output_type": "stream",
     "text": [
      "Automatic type conversion example: 10 + 3.14 = 13.14 (type of z is <class 'float'>)\n",
      "Hi! Hi! Hi! \n",
      "6\n"
     ]
    }
   ],
   "source": [
    "# 4. Automatically converting the python variables from one type to another type\n",
    "# 5. Explain with comments\n",
    "# Example 1:\n",
    "\n",
    "x = 10  # int   \n",
    "y = 3.14 # float\n",
    "\n",
    "z = x + y # Automatic type conversion (int to float)\n",
    "\n",
    "print(f'Automatic type conversion example: {x} + {y} = {z} (type of z is {type(z)})')\n",
    "\n",
    "# Example 2:\n",
    "\n",
    "x = 3\n",
    "s = 'Hi! '\n",
    "\n",
    "print(x*s) # Automatic type conversion (int to str)\n",
    "\n",
    "\n",
    "# example 3:\n",
    "x = 5\n",
    "y = True\n",
    "z = x + y # Automatically convert True to 1 (int)\n",
    "print(z)\n",
    "\n"
   ]
  },
  {
   "cell_type": "code",
   "execution_count": 28,
   "metadata": {},
   "outputs": [
    {
     "name": "stdout",
     "output_type": "stream",
     "text": [
      "You entered the string: hello my name pavan and i am 22 years old and my weight is 65.7\n"
     ]
    }
   ],
   "source": [
    "# 6. Takes a string input from the user containing mixture of numbers and text\n",
    "s = input(\"Enter a string containing mixture of numbers and text: \")\n",
    "print(\"You entered the string:\", s)"
   ]
  },
  {
   "cell_type": "code",
   "execution_count": 29,
   "metadata": {},
   "outputs": [
    {
     "name": "stdout",
     "output_type": "stream",
     "text": [
      "Extracted numbers and their types:\n",
      "22 is of type <class 'int'>\n",
      "65 is of type <class 'int'>\n",
      "7 is of type <class 'int'>\n"
     ]
    }
   ],
   "source": [
    "# Extract all the numbers from the string and convert them into their data types\n",
    "\n",
    "import re\n",
    "\n",
    "numbers = re.findall(r'\\d+', s)  # Find all sequences of digits\n",
    "converted_numbers = [float(num) if '.' in num else int(num) for num in numbers]\n",
    "\n",
    "print(\"Extracted numbers and their types:\")\n",
    "for num in converted_numbers:\n",
    "    print(f'{num} is of type {type(num)}')\n"
   ]
  },
  {
   "cell_type": "code",
   "execution_count": 35,
   "metadata": {},
   "outputs": [
    {
     "name": "stdout",
     "output_type": "stream",
     "text": [
      "Integers extracted from the string: [100]\n",
      "Floats extracted from the string: [56.7]\n"
     ]
    }
   ],
   "source": [
    "# 7. return with tuples of lists containing with integers and float values in a string\n",
    "\n",
    "import re\n",
    "\n",
    "def extract_numbers(text: str):\n",
    "    # Correct regex: Match float numbers first, then integers\n",
    "    numbers = re.findall(r'\\d+\\.\\d+|\\d+', text)\n",
    "\n",
    "    integers = []\n",
    "    floats = []\n",
    "\n",
    "    for num in numbers:\n",
    "        try:\n",
    "            if '.' in num:\n",
    "                floats.append(float(num))\n",
    "            else:\n",
    "                integers.append(int(num))\n",
    "        except ValueError:\n",
    "            # Handle any unexpected conversion error\n",
    "            continue\n",
    "\n",
    "    return (integers, floats)\n",
    "\n",
    "# Test string\n",
    "s = \"The price is 100 dollars and the weight is 56.7 kg.\"\n",
    "integers, floats = extract_numbers(s)\n",
    "\n",
    "print(\"Integers extracted from the string:\", integers)\n",
    "print(\"Floats extracted from the string:\", floats)\n"
   ]
  },
  {
   "cell_type": "markdown",
   "metadata": {},
   "source": [
    "# Part 3: Number Systems and Representation\n",
    "\n",
    "Exercise 3.1: Base Converter\n",
    "Create a set of functions that:\n",
    "1. Converts decimal integers to binary, octal, and hexadecimal strings without using built-in\n",
    "functions like bin(), oct(), or hex().\n",
    "2. Converts binary, octal, and hexadecimal strings to decimal integers without using int(x,\n",
    "base).\n",
    "3. Demonstrates your functions with at least five different numbers.\n",
    "4. Verifies your results by comparing with Python's built-in conversion functions.\n"
   ]
  },
  {
   "cell_type": "code",
   "execution_count": null,
   "metadata": {},
   "outputs": [],
   "source": []
  }
 ],
 "metadata": {
  "kernelspec": {
   "display_name": "Python 3",
   "language": "python",
   "name": "python3"
  },
  "language_info": {
   "codemirror_mode": {
    "name": "ipython",
    "version": 3
   },
   "file_extension": ".py",
   "mimetype": "text/x-python",
   "name": "python",
   "nbconvert_exporter": "python",
   "pygments_lexer": "ipython3",
   "version": "3.9.6"
  }
 },
 "nbformat": 4,
 "nbformat_minor": 2
}
