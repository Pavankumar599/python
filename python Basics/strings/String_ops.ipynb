{
 "cells": [
  {
   "cell_type": "code",
   "execution_count": 4,
   "id": "8310906a",
   "metadata": {},
   "outputs": [],
   "source": [
    "s = \"pavan\""
   ]
  },
  {
   "cell_type": "code",
   "execution_count": 5,
   "id": "9423f633",
   "metadata": {},
   "outputs": [
    {
     "data": {
      "text/plain": [
       "str"
      ]
     },
     "execution_count": 5,
     "metadata": {},
     "output_type": "execute_result"
    }
   ],
   "source": [
    "type(s)"
   ]
  },
  {
   "cell_type": "code",
   "execution_count": 7,
   "id": "8f4c5a10",
   "metadata": {},
   "outputs": [],
   "source": [
    "s1 = \"don't\""
   ]
  },
  {
   "cell_type": "code",
   "execution_count": 8,
   "id": "7f29ade5",
   "metadata": {},
   "outputs": [],
   "source": [
    "s2 = 'dont\"t'"
   ]
  },
  {
   "cell_type": "code",
   "execution_count": 9,
   "id": "731949d9",
   "metadata": {},
   "outputs": [],
   "source": [
    "s = \"python\""
   ]
  },
  {
   "cell_type": "code",
   "execution_count": 10,
   "id": "242e640a",
   "metadata": {},
   "outputs": [
    {
     "data": {
      "text/plain": [
       "'p'"
      ]
     },
     "execution_count": 10,
     "metadata": {},
     "output_type": "execute_result"
    }
   ],
   "source": [
    "s[0]"
   ]
  },
  {
   "cell_type": "code",
   "execution_count": 11,
   "id": "516374ca",
   "metadata": {},
   "outputs": [
    {
     "data": {
      "text/plain": [
       "'n'"
      ]
     },
     "execution_count": 11,
     "metadata": {},
     "output_type": "execute_result"
    }
   ],
   "source": [
    "s[-1]"
   ]
  },
  {
   "cell_type": "code",
   "execution_count": 12,
   "id": "25bea06a",
   "metadata": {},
   "outputs": [
    {
     "ename": "IndexError",
     "evalue": "string index out of range",
     "output_type": "error",
     "traceback": [
      "\u001b[0;31m---------------------------------------------------------------------------\u001b[0m",
      "\u001b[0;31mIndexError\u001b[0m                                Traceback (most recent call last)",
      "Cell \u001b[0;32mIn[12], line 1\u001b[0m\n\u001b[0;32m----> 1\u001b[0m \u001b[43ms\u001b[49m\u001b[43m[\u001b[49m\u001b[38;5;241;43m100\u001b[39;49m\u001b[43m]\u001b[49m\n",
      "\u001b[0;31mIndexError\u001b[0m: string index out of range"
     ]
    }
   ],
   "source": [
    "s[100]"
   ]
  },
  {
   "cell_type": "code",
   "execution_count": 13,
   "id": "fc60d048",
   "metadata": {},
   "outputs": [
    {
     "data": {
      "text/plain": [
       "'p'"
      ]
     },
     "execution_count": 13,
     "metadata": {},
     "output_type": "execute_result"
    }
   ],
   "source": [
    "s[0]"
   ]
  },
  {
   "cell_type": "code",
   "execution_count": 14,
   "id": "55ccfd6b",
   "metadata": {},
   "outputs": [
    {
     "data": {
      "text/plain": [
       "'y'"
      ]
     },
     "execution_count": 14,
     "metadata": {},
     "output_type": "execute_result"
    }
   ],
   "source": [
    "s[1]"
   ]
  },
  {
   "cell_type": "code",
   "execution_count": 15,
   "id": "8a183d8f",
   "metadata": {},
   "outputs": [
    {
     "data": {
      "text/plain": [
       "'py'"
      ]
     },
     "execution_count": 15,
     "metadata": {},
     "output_type": "execute_result"
    }
   ],
   "source": [
    "s[0] + s[1]"
   ]
  },
  {
   "cell_type": "code",
   "execution_count": 16,
   "id": "7351c362",
   "metadata": {},
   "outputs": [
    {
     "data": {
      "text/plain": [
       "'py'"
      ]
     },
     "execution_count": 16,
     "metadata": {},
     "output_type": "execute_result"
    }
   ],
   "source": [
    "s[0:2]"
   ]
  },
  {
   "cell_type": "code",
   "execution_count": 17,
   "id": "dd6eb720",
   "metadata": {},
   "outputs": [
    {
     "data": {
      "text/plain": [
       "'pyt'"
      ]
     },
     "execution_count": 17,
     "metadata": {},
     "output_type": "execute_result"
    }
   ],
   "source": [
    "s[0:3]"
   ]
  },
  {
   "cell_type": "code",
   "execution_count": 18,
   "id": "d409ab90",
   "metadata": {},
   "outputs": [
    {
     "data": {
      "text/plain": [
       "'python'"
      ]
     },
     "execution_count": 18,
     "metadata": {},
     "output_type": "execute_result"
    }
   ],
   "source": [
    "s[0:100]"
   ]
  },
  {
   "cell_type": "code",
   "execution_count": 19,
   "id": "befec321",
   "metadata": {},
   "outputs": [
    {
     "data": {
      "text/plain": [
       "'pt'"
      ]
     },
     "execution_count": 19,
     "metadata": {},
     "output_type": "execute_result"
    }
   ],
   "source": [
    "s[0:3:2]"
   ]
  },
  {
   "cell_type": "code",
   "execution_count": 24,
   "id": "35cd9a3e",
   "metadata": {},
   "outputs": [],
   "source": [
    "s = \"pavan\""
   ]
  },
  {
   "cell_type": "code",
   "execution_count": 25,
   "id": "718ae1ff",
   "metadata": {},
   "outputs": [
    {
     "data": {
      "text/plain": [
       "'pava'"
      ]
     },
     "execution_count": 25,
     "metadata": {},
     "output_type": "execute_result"
    }
   ],
   "source": [
    "s[0:4]"
   ]
  },
  {
   "cell_type": "code",
   "execution_count": 26,
   "id": "e27c169b",
   "metadata": {},
   "outputs": [
    {
     "data": {
      "text/plain": [
       "''"
      ]
     },
     "execution_count": 26,
     "metadata": {},
     "output_type": "execute_result"
    }
   ],
   "source": [
    "s[8:0]"
   ]
  },
  {
   "cell_type": "code",
   "execution_count": 27,
   "id": "4a6e2c2b",
   "metadata": {},
   "outputs": [
    {
     "data": {
      "text/plain": [
       "'nava'"
      ]
     },
     "execution_count": 27,
     "metadata": {},
     "output_type": "execute_result"
    }
   ],
   "source": [
    "s[8:0:-1]"
   ]
  },
  {
   "cell_type": "code",
   "execution_count": 28,
   "id": "ab9be00c",
   "metadata": {},
   "outputs": [
    {
     "data": {
      "text/plain": [
       "'navap'"
      ]
     },
     "execution_count": 28,
     "metadata": {},
     "output_type": "execute_result"
    }
   ],
   "source": [
    "s[8:-10:-1]"
   ]
  },
  {
   "cell_type": "code",
   "execution_count": 29,
   "id": "1e10abb3",
   "metadata": {},
   "outputs": [
    {
     "data": {
      "text/plain": [
       "'navap'"
      ]
     },
     "execution_count": 29,
     "metadata": {},
     "output_type": "execute_result"
    }
   ],
   "source": [
    "s[::-1]"
   ]
  },
  {
   "cell_type": "code",
   "execution_count": 31,
   "id": "3e185bd8",
   "metadata": {},
   "outputs": [],
   "source": [
    "s= \"python\""
   ]
  },
  {
   "cell_type": "code",
   "execution_count": 32,
   "id": "2808ba4f",
   "metadata": {},
   "outputs": [],
   "source": [
    "s = s.upper()"
   ]
  },
  {
   "cell_type": "code",
   "execution_count": 33,
   "id": "e640af7e",
   "metadata": {},
   "outputs": [
    {
     "data": {
      "text/plain": [
       "'PYTHON'"
      ]
     },
     "execution_count": 33,
     "metadata": {},
     "output_type": "execute_result"
    }
   ],
   "source": [
    "s"
   ]
  },
  {
   "cell_type": "code",
   "execution_count": 34,
   "id": "77d42a1e",
   "metadata": {},
   "outputs": [
    {
     "data": {
      "text/plain": [
       "'python'"
      ]
     },
     "execution_count": 34,
     "metadata": {},
     "output_type": "execute_result"
    }
   ],
   "source": [
    "s.lower()"
   ]
  },
  {
   "cell_type": "code",
   "execution_count": 35,
   "id": "a6e0d04e",
   "metadata": {},
   "outputs": [],
   "source": [
    "s = \"pavan kumar?\""
   ]
  },
  {
   "cell_type": "code",
   "execution_count": 36,
   "id": "4250df09",
   "metadata": {},
   "outputs": [
    {
     "data": {
      "text/plain": [
       "'Pavan kumar?'"
      ]
     },
     "execution_count": 36,
     "metadata": {},
     "output_type": "execute_result"
    }
   ],
   "source": [
    "s.capitalize()"
   ]
  },
  {
   "cell_type": "code",
   "execution_count": 37,
   "id": "00d1bc41",
   "metadata": {},
   "outputs": [
    {
     "data": {
      "text/plain": [
       "'Pavan Kumar?'"
      ]
     },
     "execution_count": 37,
     "metadata": {},
     "output_type": "execute_result"
    }
   ],
   "source": [
    "s.title()"
   ]
  },
  {
   "cell_type": "code",
   "execution_count": 40,
   "id": "eb949fdf",
   "metadata": {},
   "outputs": [],
   "source": [
    "s = \"Python\""
   ]
  },
  {
   "cell_type": "code",
   "execution_count": 41,
   "id": "f0dbec7d",
   "metadata": {},
   "outputs": [
    {
     "data": {
      "text/plain": [
       "'pYTHON'"
      ]
     },
     "execution_count": 41,
     "metadata": {},
     "output_type": "execute_result"
    }
   ],
   "source": [
    "s.swapcase()"
   ]
  },
  {
   "cell_type": "code",
   "execution_count": 42,
   "id": "2e03b674",
   "metadata": {},
   "outputs": [
    {
     "data": {
      "text/plain": [
       "'python'"
      ]
     },
     "execution_count": 42,
     "metadata": {},
     "output_type": "execute_result"
    }
   ],
   "source": [
    "s.casefold()"
   ]
  },
  {
   "cell_type": "code",
   "execution_count": 43,
   "id": "bf4feb9d",
   "metadata": {},
   "outputs": [],
   "source": [
    "s = \"python is a programming language\""
   ]
  },
  {
   "cell_type": "code",
   "execution_count": 44,
   "id": "e2758b3b",
   "metadata": {},
   "outputs": [
    {
     "data": {
      "text/plain": [
       "31"
      ]
     },
     "execution_count": 44,
     "metadata": {},
     "output_type": "execute_result"
    }
   ],
   "source": [
    "s.find(\"e\")"
   ]
  },
  {
   "cell_type": "code",
   "execution_count": 45,
   "id": "1869edd1",
   "metadata": {},
   "outputs": [
    {
     "data": {
      "text/plain": [
       "-1"
      ]
     },
     "execution_count": 45,
     "metadata": {},
     "output_type": "execute_result"
    }
   ],
   "source": [
    "s.find(\"ed\")"
   ]
  },
  {
   "cell_type": "code",
   "execution_count": 46,
   "id": "862619e5",
   "metadata": {},
   "outputs": [
    {
     "data": {
      "text/plain": [
       "12"
      ]
     },
     "execution_count": 46,
     "metadata": {},
     "output_type": "execute_result"
    }
   ],
   "source": [
    "s.find(\"prog\")"
   ]
  },
  {
   "cell_type": "code",
   "execution_count": 47,
   "id": "7c29aa62",
   "metadata": {},
   "outputs": [
    {
     "data": {
      "text/plain": [
       "31"
      ]
     },
     "execution_count": 47,
     "metadata": {},
     "output_type": "execute_result"
    }
   ],
   "source": [
    "s.index(\"e\")"
   ]
  },
  {
   "cell_type": "code",
   "execution_count": 48,
   "id": "bc62fe15",
   "metadata": {},
   "outputs": [
    {
     "data": {
      "text/plain": [
       "7"
      ]
     },
     "execution_count": 48,
     "metadata": {},
     "output_type": "execute_result"
    }
   ],
   "source": [
    "s.index(\"is\")"
   ]
  },
  {
   "cell_type": "code",
   "execution_count": 49,
   "id": "405dfad4",
   "metadata": {},
   "outputs": [
    {
     "ename": "ValueError",
     "evalue": "substring not found",
     "output_type": "error",
     "traceback": [
      "\u001b[0;31m---------------------------------------------------------------------------\u001b[0m",
      "\u001b[0;31mValueError\u001b[0m                                Traceback (most recent call last)",
      "Cell \u001b[0;32mIn[49], line 1\u001b[0m\n\u001b[0;32m----> 1\u001b[0m \u001b[43ms\u001b[49m\u001b[38;5;241;43m.\u001b[39;49m\u001b[43mindex\u001b[49m\u001b[43m(\u001b[49m\u001b[38;5;124;43m\"\u001b[39;49m\u001b[38;5;124;43mkumar\u001b[39;49m\u001b[38;5;124;43m\"\u001b[39;49m\u001b[43m)\u001b[49m\n",
      "\u001b[0;31mValueError\u001b[0m: substring not found"
     ]
    }
   ],
   "source": [
    "s.index(\"kumar\")"
   ]
  },
  {
   "cell_type": "code",
   "execution_count": 51,
   "id": "1d75c5bb",
   "metadata": {},
   "outputs": [
    {
     "data": {
      "text/plain": [
       "1"
      ]
     },
     "execution_count": 51,
     "metadata": {},
     "output_type": "execute_result"
    }
   ],
   "source": [
    "s.count(\"e\")"
   ]
  },
  {
   "cell_type": "code",
   "execution_count": 52,
   "id": "8c896619",
   "metadata": {},
   "outputs": [
    {
     "data": {
      "text/plain": [
       "2"
      ]
     },
     "execution_count": 52,
     "metadata": {},
     "output_type": "execute_result"
    }
   ],
   "source": [
    "s.count(\"p\")"
   ]
  },
  {
   "cell_type": "code",
   "execution_count": 55,
   "id": "7d15211c",
   "metadata": {},
   "outputs": [
    {
     "data": {
      "text/plain": [
       "0"
      ]
     },
     "execution_count": 55,
     "metadata": {},
     "output_type": "execute_result"
    }
   ],
   "source": [
    "s.count(\"sudh\")"
   ]
  },
  {
   "cell_type": "code",
   "execution_count": 53,
   "id": "06232435",
   "metadata": {},
   "outputs": [],
   "source": [
    "s = \"pavan\""
   ]
  },
  {
   "cell_type": "code",
   "execution_count": 54,
   "id": "7d204615",
   "metadata": {},
   "outputs": [
    {
     "data": {
      "text/plain": [
       "True"
      ]
     },
     "execution_count": 54,
     "metadata": {},
     "output_type": "execute_result"
    }
   ],
   "source": [
    "s.isalpha()"
   ]
  },
  {
   "cell_type": "code",
   "execution_count": 55,
   "id": "2f2c38ec",
   "metadata": {},
   "outputs": [
    {
     "data": {
      "text/plain": [
       "True"
      ]
     },
     "execution_count": 55,
     "metadata": {},
     "output_type": "execute_result"
    }
   ],
   "source": [
    "s.isalnum()"
   ]
  },
  {
   "cell_type": "code",
   "execution_count": 58,
   "id": "1a797a4a",
   "metadata": {},
   "outputs": [],
   "source": [
    "s = \"python\""
   ]
  },
  {
   "cell_type": "code",
   "execution_count": 59,
   "id": "3e205d6e",
   "metadata": {},
   "outputs": [
    {
     "data": {
      "text/plain": [
       "4385811056"
      ]
     },
     "execution_count": 59,
     "metadata": {},
     "output_type": "execute_result"
    }
   ],
   "source": [
    "id(s)"
   ]
  },
  {
   "cell_type": "code",
   "execution_count": 60,
   "id": "afde3242",
   "metadata": {},
   "outputs": [],
   "source": [
    "modify = s + \" pavan\""
   ]
  },
  {
   "cell_type": "code",
   "execution_count": 61,
   "id": "4362cecf",
   "metadata": {},
   "outputs": [
    {
     "data": {
      "text/plain": [
       "'python pavan'"
      ]
     },
     "execution_count": 61,
     "metadata": {},
     "output_type": "execute_result"
    }
   ],
   "source": [
    "modify"
   ]
  },
  {
   "cell_type": "code",
   "execution_count": 62,
   "id": "9cc87d00",
   "metadata": {},
   "outputs": [
    {
     "data": {
      "text/plain": [
       "4421968176"
      ]
     },
     "execution_count": 62,
     "metadata": {},
     "output_type": "execute_result"
    }
   ],
   "source": [
    "id(modify)"
   ]
  },
  {
   "cell_type": "code",
   "execution_count": 63,
   "id": "6a029001",
   "metadata": {},
   "outputs": [],
   "source": [
    "a = \"python\"\n",
    "b = \"pavan\""
   ]
  },
  {
   "cell_type": "code",
   "execution_count": 64,
   "id": "21bb2d05",
   "metadata": {},
   "outputs": [
    {
     "data": {
      "text/plain": [
       "4385811056"
      ]
     },
     "execution_count": 64,
     "metadata": {},
     "output_type": "execute_result"
    }
   ],
   "source": [
    "id(a)"
   ]
  },
  {
   "cell_type": "code",
   "execution_count": 65,
   "id": "6a7add85",
   "metadata": {},
   "outputs": [
    {
     "data": {
      "text/plain": [
       "4397986864"
      ]
     },
     "execution_count": 65,
     "metadata": {},
     "output_type": "execute_result"
    }
   ],
   "source": [
    "id(b)"
   ]
  },
  {
   "cell_type": "code",
   "execution_count": 66,
   "id": "6d6ad3ea",
   "metadata": {},
   "outputs": [
    {
     "data": {
      "text/plain": [
       "'python'"
      ]
     },
     "execution_count": 66,
     "metadata": {},
     "output_type": "execute_result"
    }
   ],
   "source": [
    "a"
   ]
  },
  {
   "cell_type": "code",
   "execution_count": 67,
   "id": "8db5cb88",
   "metadata": {},
   "outputs": [
    {
     "data": {
      "text/plain": [
       "'p'"
      ]
     },
     "execution_count": 67,
     "metadata": {},
     "output_type": "execute_result"
    }
   ],
   "source": [
    "a[0]"
   ]
  },
  {
   "cell_type": "code",
   "execution_count": 68,
   "id": "7c01fc03",
   "metadata": {},
   "outputs": [
    {
     "ename": "TypeError",
     "evalue": "'str' object does not support item assignment",
     "output_type": "error",
     "traceback": [
      "\u001b[0;31m---------------------------------------------------------------------------\u001b[0m",
      "\u001b[0;31mTypeError\u001b[0m                                 Traceback (most recent call last)",
      "Cell \u001b[0;32mIn[68], line 1\u001b[0m\n\u001b[0;32m----> 1\u001b[0m \u001b[43ma\u001b[49m\u001b[43m[\u001b[49m\u001b[38;5;241;43m0\u001b[39;49m\u001b[43m]\u001b[49m \u001b[38;5;241m=\u001b[39m\u001b[38;5;124m'\u001b[39m\u001b[38;5;124ma\u001b[39m\u001b[38;5;124m'\u001b[39m\n",
      "\u001b[0;31mTypeError\u001b[0m: 'str' object does not support item assignment"
     ]
    }
   ],
   "source": [
    "a[0] ='a'"
   ]
  },
  {
   "cell_type": "code",
   "execution_count": 69,
   "id": "d8c0faaa",
   "metadata": {},
   "outputs": [
    {
     "data": {
      "text/plain": [
       "'python'"
      ]
     },
     "execution_count": 69,
     "metadata": {},
     "output_type": "execute_result"
    }
   ],
   "source": [
    "a"
   ]
  },
  {
   "cell_type": "code",
   "execution_count": 70,
   "id": "388f855d",
   "metadata": {},
   "outputs": [
    {
     "data": {
      "text/plain": [
       "4385811056"
      ]
     },
     "execution_count": 70,
     "metadata": {},
     "output_type": "execute_result"
    }
   ],
   "source": [
    "id(a)"
   ]
  },
  {
   "cell_type": "code",
   "execution_count": 73,
   "id": "dc182643",
   "metadata": {},
   "outputs": [],
   "source": [
    "c = a.replace(\"p\", \"a\")"
   ]
  },
  {
   "cell_type": "code",
   "execution_count": 74,
   "id": "4387cab1",
   "metadata": {},
   "outputs": [
    {
     "data": {
      "text/plain": [
       "'aython'"
      ]
     },
     "execution_count": 74,
     "metadata": {},
     "output_type": "execute_result"
    }
   ],
   "source": [
    "c"
   ]
  },
  {
   "cell_type": "code",
   "execution_count": 75,
   "id": "e75094c6",
   "metadata": {},
   "outputs": [
    {
     "data": {
      "text/plain": [
       "4421971056"
      ]
     },
     "execution_count": 75,
     "metadata": {},
     "output_type": "execute_result"
    }
   ],
   "source": [
    "id(c)"
   ]
  },
  {
   "cell_type": "code",
   "execution_count": 77,
   "id": "78d5b904",
   "metadata": {},
   "outputs": [],
   "source": [
    "d = \"python\" + \" pavan\""
   ]
  },
  {
   "cell_type": "code",
   "execution_count": 78,
   "id": "87fcb91e",
   "metadata": {},
   "outputs": [
    {
     "data": {
      "text/plain": [
       "'python pavan'"
      ]
     },
     "execution_count": 78,
     "metadata": {},
     "output_type": "execute_result"
    }
   ],
   "source": [
    "d"
   ]
  },
  {
   "cell_type": "code",
   "execution_count": 79,
   "id": "4e5b4dfa",
   "metadata": {},
   "outputs": [],
   "source": [
    "e = \"pavan kumar\""
   ]
  },
  {
   "cell_type": "code",
   "execution_count": 80,
   "id": "40c0281b",
   "metadata": {},
   "outputs": [
    {
     "data": {
      "text/plain": [
       "4421962544"
      ]
     },
     "execution_count": 80,
     "metadata": {},
     "output_type": "execute_result"
    }
   ],
   "source": [
    "id(d)"
   ]
  },
  {
   "cell_type": "code",
   "execution_count": 81,
   "id": "aa50837f",
   "metadata": {},
   "outputs": [
    {
     "data": {
      "text/plain": [
       "4421936432"
      ]
     },
     "execution_count": 81,
     "metadata": {},
     "output_type": "execute_result"
    }
   ],
   "source": [
    "id(e)"
   ]
  },
  {
   "cell_type": "code",
   "execution_count": 82,
   "id": "0aabda14",
   "metadata": {},
   "outputs": [
    {
     "name": "stdout",
     "output_type": "stream",
     "text": [
      "my name is pavan kumar \n",
      "i am learning python \n",
      "and data science\n"
     ]
    }
   ],
   "source": [
    "print(\"my name is pavan kumar \\ni am learning python \\nand data science\")"
   ]
  },
  {
   "cell_type": "code",
   "execution_count": 83,
   "id": "61c6bcd2",
   "metadata": {},
   "outputs": [
    {
     "name": "stdout",
     "output_type": "stream",
     "text": [
      "my name is pavan kumar \ti am learning python \tand data science\n"
     ]
    }
   ],
   "source": [
    "print(\"my name is pavan kumar \\ti am learning python \\tand data science\")"
   ]
  },
  {
   "cell_type": "code",
   "execution_count": 84,
   "id": "c4c77f20",
   "metadata": {},
   "outputs": [
    {
     "name": "stdout",
     "output_type": "stream",
     "text": [
      "\\\n"
     ]
    }
   ],
   "source": [
    "print(\"\\\\\")"
   ]
  },
  {
   "cell_type": "code",
   "execution_count": 85,
   "id": "431c263f",
   "metadata": {},
   "outputs": [],
   "source": [
    "raw_data = r\"C:\\Users\\pavan\\Desktop\\data science\""
   ]
  },
  {
   "cell_type": "code",
   "execution_count": 86,
   "id": "bd32e589",
   "metadata": {},
   "outputs": [
    {
     "data": {
      "text/plain": [
       "'C:\\\\Users\\\\pavan\\\\Desktop\\\\data science'"
      ]
     },
     "execution_count": 86,
     "metadata": {},
     "output_type": "execute_result"
    }
   ],
   "source": [
    "raw_data"
   ]
  },
  {
   "cell_type": "code",
   "execution_count": 87,
   "id": "98af4251",
   "metadata": {},
   "outputs": [
    {
     "name": "stdout",
     "output_type": "stream",
     "text": [
      "C:\\Users\\pavan\\Desktop\\data science\n"
     ]
    }
   ],
   "source": [
    "print(raw_data)"
   ]
  },
  {
   "cell_type": "code",
   "execution_count": 88,
   "id": "b10909bd",
   "metadata": {},
   "outputs": [],
   "source": [
    "raw_data = \"C:\\\\Users\\\\sudhanshu\\\\Desktop\\\\data science\""
   ]
  },
  {
   "cell_type": "code",
   "execution_count": 89,
   "id": "3c5edfa1",
   "metadata": {},
   "outputs": [
    {
     "name": "stdout",
     "output_type": "stream",
     "text": [
      "C:\\Users\\sudhanshu\\Desktop\\data science\n"
     ]
    }
   ],
   "source": [
    "print(raw_data)"
   ]
  },
  {
   "cell_type": "code",
   "execution_count": 90,
   "id": "31d904db",
   "metadata": {},
   "outputs": [
    {
     "name": "stdout",
     "output_type": "stream",
     "text": [
      "😀\n"
     ]
    }
   ],
   "source": [
    "print(\"\\U0001F600\") "
   ]
  },
  {
   "cell_type": "code",
   "execution_count": 91,
   "id": "098610b6",
   "metadata": {},
   "outputs": [
    {
     "name": "stdout",
     "output_type": "stream",
     "text": [
      "😊\n"
     ]
    }
   ],
   "source": [
    "print(\"\\U0001F60A\")"
   ]
  },
  {
   "cell_type": "code",
   "execution_count": 92,
   "id": "775e00a6",
   "metadata": {},
   "outputs": [
    {
     "name": "stdout",
     "output_type": "stream",
     "text": [
      "ὤ3\n"
     ]
    }
   ],
   "source": [
    "print(\"\\u1F643\")"
   ]
  },
  {
   "cell_type": "code",
   "execution_count": 93,
   "id": "69cef422",
   "metadata": {},
   "outputs": [
    {
     "name": "stdout",
     "output_type": "stream",
     "text": [
      "©\n"
     ]
    }
   ],
   "source": [
    "print(\"\\u00A9\") "
   ]
  },
  {
   "cell_type": "code",
   "execution_count": 94,
   "id": "f4a2da30",
   "metadata": {},
   "outputs": [
    {
     "name": "stdout",
     "output_type": "stream",
     "text": [
      "Δ\n"
     ]
    }
   ],
   "source": [
    "print(\"\\N{GREEK CAPITAL LETTER DELTA}\")  "
   ]
  },
  {
   "cell_type": "code",
   "execution_count": 95,
   "id": "c8357d7b",
   "metadata": {},
   "outputs": [
    {
     "name": "stdout",
     "output_type": "stream",
     "text": [
      "☃\n"
     ]
    }
   ],
   "source": [
    "print(\"\\N{SNOWMAN}\") "
   ]
  },
  {
   "cell_type": "code",
   "execution_count": 97,
   "id": "5ee865f3",
   "metadata": {},
   "outputs": [
    {
     "data": {
      "text/plain": [
       "'my name is pavan kumar\\ni am learning python\\nand  data science'"
      ]
     },
     "execution_count": 97,
     "metadata": {},
     "output_type": "execute_result"
    }
   ],
   "source": [
    "\"\"\"my name is pavan kumar\n",
    "i am learning python\n",
    "and  data science\"\"\"\n"
   ]
  },
  {
   "cell_type": "code",
   "execution_count": 98,
   "id": "bd3ff246",
   "metadata": {},
   "outputs": [
    {
     "data": {
      "text/plain": [
       "'my name is pavan kumari am learning pythonand data science'"
      ]
     },
     "execution_count": 98,
     "metadata": {},
     "output_type": "execute_result"
    }
   ],
   "source": [
    "\"my name is pavan kumar\"\\\n",
    "    \"i am learning python\"\\\n",
    "    \"and data science\"\n",
    "    "
   ]
  },
  {
   "cell_type": "code",
   "execution_count": 100,
   "id": "1ed18069",
   "metadata": {},
   "outputs": [
    {
     "name": "stdout",
     "output_type": "stream",
     "text": [
      "my name is pavan , my age is 22\n"
     ]
    }
   ],
   "source": [
    "name = \"pavan\"\n",
    "age = 22\n",
    "\n",
    "print(f\"my name is {name} , my age is {age}\")"
   ]
  },
  {
   "cell_type": "code",
   "execution_count": 101,
   "id": "ddf7dea2",
   "metadata": {},
   "outputs": [
    {
     "name": "stdout",
     "output_type": "stream",
     "text": [
      "my name is pavan , my age is 22 , i am working with sjhcs\n"
     ]
    }
   ],
   "source": [
    "name = input(\"enter your name\")\n",
    "age = int(input(\"enter your age\"))\n",
    "company = input(\"enter your company\")\n",
    "print(f\"my name is {name} , my age is {age} , i am working with {company}\")"
   ]
  },
  {
   "cell_type": "code",
   "execution_count": 102,
   "id": "e9877c92",
   "metadata": {},
   "outputs": [
    {
     "name": "stdout",
     "output_type": "stream",
     "text": [
      "my name is pavan , my age is 22 , i am working with djne\n"
     ]
    }
   ],
   "source": [
    "name = input(\"enter your name\")\n",
    "age = int(input(\"enter your age\"))\n",
    "company = input(\"enter your company\")\n",
    "print(\"my name is {name} , my age is {age} , i am working with {company}\".format(name=name, age=age, company=company))"
   ]
  },
  {
   "cell_type": "code",
   "execution_count": 103,
   "id": "1e9ea20f",
   "metadata": {},
   "outputs": [],
   "source": [
    "from string import Template"
   ]
  },
  {
   "cell_type": "code",
   "execution_count": 104,
   "id": "2b82635d",
   "metadata": {},
   "outputs": [],
   "source": [
    "Temp = Template(\"my name is $name , my age is $age , i am working with $company\")"
   ]
  },
  {
   "cell_type": "code",
   "execution_count": 105,
   "id": "67888ce3",
   "metadata": {},
   "outputs": [],
   "source": [
    "temp = Temp.substitute(name=name, age=age, company=company)"
   ]
  },
  {
   "cell_type": "code",
   "execution_count": 106,
   "id": "af3413cf",
   "metadata": {},
   "outputs": [
    {
     "data": {
      "text/plain": [
       "'my name is pavan , my age is 22 , i am working with djne'"
      ]
     },
     "execution_count": 106,
     "metadata": {},
     "output_type": "execute_result"
    }
   ],
   "source": [
    "temp\n"
   ]
  },
  {
   "cell_type": "code",
   "execution_count": 107,
   "id": "eb519211",
   "metadata": {},
   "outputs": [],
   "source": [
    "pavan_email_temp = Template(\n",
    "    \"\"\"\n",
    "    From:$sender\n",
    "    To:$receiver\n",
    "    Subject:$subject\n",
    "    $body\n",
    "    \"\"\"\n",
    ")"
   ]
  },
  {
   "cell_type": "code",
   "execution_count": 110,
   "id": "206e8f72",
   "metadata": {},
   "outputs": [],
   "source": [
    "result = pavan_email_temp.substitute(\n",
    "    sender=input(\"enter your email\"),\n",
    "    receiver=\"sskumar@gmail.com\",\n",
    "    subject=\"Welcome to tutorial\",\n",
    "    body=\"Welcome to python notebook, we are happy to have you in our family\",\n",
    ")"
   ]
  },
  {
   "cell_type": "code",
   "execution_count": 111,
   "id": "19fe83f8",
   "metadata": {},
   "outputs": [
    {
     "data": {
      "text/plain": [
       "'\\n    From:pavan\\n    To:sskumar@gmail.com\\n    Subject:Welcome to tutorial\\n    Welcome to python notebook, we are happy to have you in our family\\n    '"
      ]
     },
     "execution_count": 111,
     "metadata": {},
     "output_type": "execute_result"
    }
   ],
   "source": [
    "result"
   ]
  },
  {
   "cell_type": "code",
   "execution_count": null,
   "id": "738fb649",
   "metadata": {},
   "outputs": [],
   "source": []
  },
  {
   "cell_type": "code",
   "execution_count": null,
   "id": "a789307f",
   "metadata": {},
   "outputs": [],
   "source": []
  }
 ],
 "metadata": {
  "kernelspec": {
   "display_name": "Python 3",
   "language": "python",
   "name": "python3"
  },
  "language_info": {
   "codemirror_mode": {
    "name": "ipython",
    "version": 3
   },
   "file_extension": ".py",
   "mimetype": "text/x-python",
   "name": "python",
   "nbconvert_exporter": "python",
   "pygments_lexer": "ipython3",
   "version": "3.9.6"
  }
 },
 "nbformat": 4,
 "nbformat_minor": 5
}
