{
 "cells": [
  {
   "cell_type": "markdown",
   "metadata": {},
   "source": [
    "# Python Strings Assignment (Basic to Advanced)"
   ]
  },
  {
   "cell_type": "markdown",
   "metadata": {},
   "source": [
    "# -  Section 1: Creating & Accessing Strings (Basic)\n",
    "1. Create three different strings using different quotation methods (single quotes, double\n",
    "quotes, and triple quotes).\n",
    "2. Create a string variable containing your full name and write code to:\n",
    "\n",
    "    - Print the first character\n",
    "\n",
    "    - Print the last character\n",
    "\n",
    "    - Print the length of the string\n",
    "\n",
    "3. Given the string s = \"Python Programming\":\n",
    "\n",
    "    - Access and print the letter 'P' in \"Programming\" using positive indexing\n",
    "\n",
    "    - Access and print the letter 'P' in \"Programming\" using negative indexing"
   ]
  },
  {
   "cell_type": "code",
   "execution_count": null,
   "metadata": {},
   "outputs": [],
   "source": []
  },
  {
   "cell_type": "code",
   "execution_count": null,
   "metadata": {},
   "outputs": [],
   "source": []
  },
  {
   "cell_type": "code",
   "execution_count": 2,
   "metadata": {},
   "outputs": [],
   "source": [
    "# 1\n",
    "str1 = 'Pavan'\n",
    "\n",
    "str2 = \"Kumar\"\n",
    "\n",
    "str3 = '''python'''"
   ]
  },
  {
   "cell_type": "code",
   "execution_count": 4,
   "metadata": {},
   "outputs": [
    {
     "name": "stdout",
     "output_type": "stream",
     "text": [
      "First character in m name is:  p\n",
      "Last character in my name is:  r\n",
      "length of name is: 11\n"
     ]
    }
   ],
   "source": [
    "# 2\n",
    "\n",
    "name = 'pavan kumar'\n",
    "\n",
    "print('First character in m name is: ',name[0])\n",
    "\n",
    "print('Last character in my name is: ',name[-1])\n",
    "\n",
    "print('length of name is:', len(name))"
   ]
  },
  {
   "cell_type": "code",
   "execution_count": 6,
   "metadata": {},
   "outputs": [
    {
     "name": "stdout",
     "output_type": "stream",
     "text": [
      "Accessing P in programming by using positive index P\n",
      "Accessing p in programming by using negative index P\n"
     ]
    }
   ],
   "source": [
    "# 3.\n",
    "\n",
    "s = \"Python Programming\"\n",
    "\n",
    "print('Accessing P in programming by using positive index',s[7])\n",
    "print(\"Accessing p in programming by using negative index\", s[-11])"
   ]
  },
  {
   "cell_type": "markdown",
   "metadata": {},
   "source": [
    "# Section 2: Slicing & Extended Slicing (Basic to Intermediate)\n",
    "1. Using the string s = \"Python Programming\":\n",
    "    - Extract and print \"Python\"\n",
    "    - Extract and print \"Programming\"\n",
    "    - Extract and print \"gram\"\n",
    "2. Given s = \"0123456789\":\n",
    "    - Extract every even-indexed character\n",
    "    - Extract every odd-indexed character\n",
    "    - Reverse the string using slicing\n",
    "3. Create a function that takes a string and returns a \"rotated\" version where the first\n",
    "character is moved to the end. For example, \"Python\" becomes \"ythonP\""
   ]
  },
  {
   "cell_type": "code",
   "execution_count": 7,
   "metadata": {},
   "outputs": [
    {
     "name": "stdout",
     "output_type": "stream",
     "text": [
      "Python\n",
      "Programming\n",
      "gram\n"
     ]
    }
   ],
   "source": [
    "# 1.\n",
    "\n",
    "s = \"Python Programming\"\n",
    "\n",
    "print(s[:6]) # output: Python\n",
    "print(s[7:]) # output: Programming\n",
    "print(s[10:14]) # output: gram"
   ]
  },
  {
   "cell_type": "code",
   "execution_count": 8,
   "metadata": {},
   "outputs": [
    {
     "name": "stdout",
     "output_type": "stream",
     "text": [
      "Extracting Even index characters:  02468\n",
      "Extracting odd index characters:  13579\n",
      "Reverse of string 0123456789 is:  9876543210\n"
     ]
    }
   ],
   "source": [
    "s = \"0123456789\"\n",
    "\n",
    "print('Extracting Even index characters: ', s[::2]) # output: 02468\n",
    "print('Extracting odd index characters: ', s[1::2]) # output: 13579\n",
    "print(f'Reverse of string {s} is: ', s[::-1]) # output: 9876543210"
   ]
  },
  {
   "cell_type": "markdown",
   "metadata": {},
   "source": [
    "# Section 3: Immutability & Interning (Intermediate) \n",
    "1. Demonstrate string immutability with an example. Try to change a character in a string \n",
    "and explain what happens. \n",
    "2. Write code to check if two strings with the same content point to the same memory \n",
    "location. Test this with: \n",
    "    - Two string literals with the same content \n",
    "    - Two string variables assigned the same string literal \n",
    "    - Two string variables created using string operations that result in the same content \n",
    "3. Create a function that efficiently concatenates a large number of strings. Compare your \n",
    "approach with using the + operator in a loop."
   ]
  },
  {
   "cell_type": "code",
   "execution_count": 11,
   "metadata": {},
   "outputs": [
    {
     "name": "stdout",
     "output_type": "stream",
     "text": [
      "pavan\n"
     ]
    },
    {
     "ename": "TypeError",
     "evalue": "'str' object does not support item assignment",
     "output_type": "error",
     "traceback": [
      "\u001b[0;31m---------------------------------------------------------------------------\u001b[0m",
      "\u001b[0;31mTypeError\u001b[0m                                 Traceback (most recent call last)",
      "Cell \u001b[0;32mIn[11], line 3\u001b[0m\n\u001b[1;32m      1\u001b[0m s \u001b[38;5;241m=\u001b[39m \u001b[38;5;124m'\u001b[39m\u001b[38;5;124mpavan\u001b[39m\u001b[38;5;124m'\u001b[39m\n\u001b[1;32m      2\u001b[0m \u001b[38;5;28mprint\u001b[39m(s)\n\u001b[0;32m----> 3\u001b[0m \u001b[43ms\u001b[49m\u001b[43m[\u001b[49m\u001b[38;5;241;43m0\u001b[39;49m\u001b[43m]\u001b[49m \u001b[38;5;241m=\u001b[39m \u001b[38;5;124m'\u001b[39m\u001b[38;5;124mk\u001b[39m\u001b[38;5;124m'\u001b[39m  \u001b[38;5;66;03m# This will raise an error because strings are immutable in Python\u001b[39;00m\n\u001b[1;32m      4\u001b[0m \u001b[38;5;66;03m# we dont change the string inplace\u001b[39;00m\n",
      "\u001b[0;31mTypeError\u001b[0m: 'str' object does not support item assignment"
     ]
    }
   ],
   "source": [
    "s = 'pavan'\n",
    "print(s)\n",
    "s[0] = 'k'  # This will raise an error because strings are immutable in Python\n",
    "# we dont change the string inplace"
   ]
  },
  {
   "cell_type": "code",
   "execution_count": 12,
   "metadata": {},
   "outputs": [
    {
     "name": "stdout",
     "output_type": "stream",
     "text": [
      "kavan\n"
     ]
    }
   ],
   "source": [
    "# we assign new value to s \n",
    "s = 'k' + s[1:]\n",
    "print(s) # output: kavan"
   ]
  },
  {
   "cell_type": "code",
   "execution_count": 16,
   "metadata": {},
   "outputs": [
    {
     "name": "stdout",
     "output_type": "stream",
     "text": [
      "is two string literals pointing to same memory location\n",
      "True\n",
      "\n",
      "\n",
      "is two variables of same string pointing to same memory location\n",
      "True\n",
      "\n",
      "\n",
      "Is two variables created using string operations are pointing  to same memory location\n",
      "False\n",
      "True\n",
      "\n",
      "\n",
      "\n"
     ]
    },
    {
     "name": "stderr",
     "output_type": "stream",
     "text": [
      "<>:4: SyntaxWarning: \"is\" with a literal. Did you mean \"==\"?\n",
      "<>:4: SyntaxWarning: \"is\" with a literal. Did you mean \"==\"?\n",
      "/var/folders/53/qp8jb0_97cx_cs3gyj19sx140000gn/T/ipykernel_2414/689182827.py:4: SyntaxWarning: \"is\" with a literal. Did you mean \"==\"?\n",
      "  print('pavan' is 'pavan') # output: True\n"
     ]
    }
   ],
   "source": [
    "# -2\n",
    "\n",
    "print('is two string literals pointing to same memory location')\n",
    "print('pavan' is 'pavan') # output: True\n",
    "print('\\n')\n",
    "\n",
    "\n",
    "print('is two variables of same string pointing to same memory location')\n",
    "s1 = 'pavan'\n",
    "s2 = 'pavan'\n",
    "print(s1 is s2) # output: True\n",
    "print('\\n')\n",
    "\n",
    "print('Is two variables created using string operations are pointing  to same memory location')\n",
    "s1 = 'py' + 'thon'\n",
    "s2 = \"\".join(['py', 'thon'])\n",
    "print(s1 is s2)\n",
    "print(s1 == s2)\n",
    "\n",
    "print('\\n\\n')\n",
    "\n"
   ]
  },
  {
   "cell_type": "code",
   "execution_count": 18,
   "metadata": {},
   "outputs": [
    {
     "name": "stdout",
     "output_type": "stream",
     "text": [
      "Time taken to concatinate string using + operator is:  0.004450seconds\n",
      "Time taken to concatinate string using join methos is :  0.002470seconds\n"
     ]
    }
   ],
   "source": [
    "# 3\n",
    "# we concatinates strings in two ways \n",
    "# 1 is by using + operator \n",
    "# 2 is by using join method\n",
    "\n",
    "import time\n",
    "\n",
    "def plus_concatinate(s):\n",
    "    result = ''\n",
    "    for char in s:\n",
    "        result += char\n",
    "    return result\n",
    "\n",
    "def join_concatinate(s):\n",
    "    result = []\n",
    "    for char in s:\n",
    "        result.append(char)\n",
    "    return ''.join(result)\n",
    "\n",
    "def concatinates_strings_efficiently():\n",
    "    \n",
    "    s = 'abc' * (10000)\n",
    "\n",
    "    start = time.time()\n",
    "    plus_concatinate(s)\n",
    "    end = time.time()\n",
    "    plustime = end - start\n",
    "    print(f'Time taken to concatinate string using + operator is: {plustime: .6f}seconds')\n",
    "\n",
    "\n",
    "    start = time.time()\n",
    "    join_concatinate(s)\n",
    "    end = time.time()\n",
    "    jointime = end - start\n",
    "    print(f'Time taken to concatinate string using join methos is : {jointime: .6f}seconds')\n",
    "\n",
    "\n",
    "concatinates_strings_efficiently()"
   ]
  },
  {
   "cell_type": "markdown",
   "metadata": {},
   "source": [
    "# Section 4: String Methods (Intermediate) \n",
    "1. Given the string s = \" Python is Amazing! \": \n",
    "    - Remove leading and trailing whitespace \n",
    "    - Convert to all uppercase \n",
    "    - Convert to all lowercase \n",
    "    - Replace \"Amazing\" with \"Awesome\" \n",
    "2. Write a function that counts the occurrences of each character in a string and returns a \n",
    "dictionary with the results. \n",
    "3. Create a function that checks if a string is a palindrome (reads the same backward as \n",
    "forward), ignoring case, spaces, and punctuation. \n",
    "4. Given s = \"python,java,c++,javascript,ruby\": \n",
    "o Split the string into a list of programming languages \n",
    "o Join the list with a different separator (e.g., \" | \")"
   ]
  },
  {
   "cell_type": "code",
   "execution_count": null,
   "metadata": {},
   "outputs": [],
   "source": []
  },
  {
   "cell_type": "code",
   "execution_count": 18,
   "metadata": {},
   "outputs": [
    {
     "data": {
      "text/plain": [
       "'Python is Amazing!'"
      ]
     },
     "execution_count": 18,
     "metadata": {},
     "output_type": "execute_result"
    }
   ],
   "source": [
    "# 1\n",
    "\n",
    "s = \" Python is Amazing! \"\n",
    "s = s.strip()\n",
    "s"
   ]
  },
  {
   "cell_type": "code",
   "execution_count": 19,
   "metadata": {},
   "outputs": [
    {
     "data": {
      "text/plain": [
       "'PYTHON IS AMAZING!'"
      ]
     },
     "execution_count": 19,
     "metadata": {},
     "output_type": "execute_result"
    }
   ],
   "source": [
    "s = s.upper()\n",
    "s"
   ]
  },
  {
   "cell_type": "code",
   "execution_count": 20,
   "metadata": {},
   "outputs": [
    {
     "data": {
      "text/plain": [
       "'python is amazing!'"
      ]
     },
     "execution_count": 20,
     "metadata": {},
     "output_type": "execute_result"
    }
   ],
   "source": [
    "s = s.lower()\n",
    "s"
   ]
  },
  {
   "cell_type": "code",
   "execution_count": 21,
   "metadata": {},
   "outputs": [
    {
     "data": {
      "text/plain": [
       "'python is  Awesome'"
      ]
     },
     "execution_count": 21,
     "metadata": {},
     "output_type": "execute_result"
    }
   ],
   "source": [
    "s = s[:10] + ' Awesome'\n",
    "s"
   ]
  },
  {
   "cell_type": "code",
   "execution_count": 24,
   "metadata": {},
   "outputs": [
    {
     "name": "stdout",
     "output_type": "stream",
     "text": [
      "letter p is repeted in 1 times\n",
      "letter y is repeted in 1 times\n",
      "letter t is repeted in 1 times\n",
      "letter h is repeted in 1 times\n",
      "letter o is repeted in 2 times\n",
      "letter n is repeted in 1 times\n",
      "letter   is repeted in 2 times\n",
      "letter i is repeted in 1 times\n",
      "letter s is repeted in 2 times\n",
      "letter a is repeted in 1 times\n",
      "letter w is repeted in 1 times\n",
      "letter e is repeted in 2 times\n",
      "letter m is repeted in 1 times\n"
     ]
    }
   ],
   "source": [
    "s = 'python is awesome'\n",
    "count = {}\n",
    "for i in s:\n",
    "    if i in count:\n",
    "        count[i] += 1\n",
    "    else:\n",
    "        count[i] = 1\n",
    "for l,c in count.items():\n",
    "    print(f'letter {l} is repeted in {c} times')"
   ]
  },
  {
   "cell_type": "code",
   "execution_count": 27,
   "metadata": {},
   "outputs": [
    {
     "name": "stdout",
     "output_type": "stream",
     "text": [
      "True\n"
     ]
    }
   ],
   "source": [
    "# checking string is a palindrome or not\n",
    "\n",
    "def palindrome(s : str) -> bool:\n",
    "    if len(s) == 1:\n",
    "        return True\n",
    "    \n",
    "    l,r = 0, len(s) - 1\n",
    "\n",
    "    while(l <= r):\n",
    "        if s[l] != s[r]:\n",
    "            return False\n",
    "        \n",
    "        l += 1\n",
    "        r -= 1\n",
    "    return True\n",
    "\n",
    "s = 'madam'\n",
    "print(palindrome(s))"
   ]
  },
  {
   "cell_type": "code",
   "execution_count": 28,
   "metadata": {},
   "outputs": [
    {
     "data": {
      "text/plain": [
       "'python|java|c++|javascript|ruby'"
      ]
     },
     "execution_count": 28,
     "metadata": {},
     "output_type": "execute_result"
    }
   ],
   "source": [
    "s = \"python,java,c++,javascript,ruby\"\n",
    "s = s.replace(',','|')\n",
    "s"
   ]
  },
  {
   "cell_type": "code",
   "execution_count": null,
   "metadata": {},
   "outputs": [],
   "source": []
  }
 ],
 "metadata": {
  "kernelspec": {
   "display_name": "Python 3",
   "language": "python",
   "name": "python3"
  },
  "language_info": {
   "codemirror_mode": {
    "name": "ipython",
    "version": 3
   },
   "file_extension": ".py",
   "mimetype": "text/x-python",
   "name": "python",
   "nbconvert_exporter": "python",
   "pygments_lexer": "ipython3",
   "version": "3.9.6"
  }
 },
 "nbformat": 4,
 "nbformat_minor": 2
}
